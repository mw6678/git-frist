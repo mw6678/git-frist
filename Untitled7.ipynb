{
  "nbformat": 4,
  "nbformat_minor": 0,
  "metadata": {
    "colab": {
      "provenance": [],
      "authorship_tag": "ABX9TyMNWz8GwbPBJZiVhuTs0Rlx",
      "include_colab_link": true
    },
    "kernelspec": {
      "name": "python3",
      "display_name": "Python 3"
    },
    "language_info": {
      "name": "python"
    }
  },
  "cells": [
    {
      "cell_type": "markdown",
      "metadata": {
        "id": "view-in-github",
        "colab_type": "text"
      },
      "source": [
        "<a href=\"https://colab.research.google.com/github/mw6678/git-frist/blob/master/Untitled7.ipynb\" target=\"_parent\"><img src=\"https://colab.research.google.com/assets/colab-badge.svg\" alt=\"Open In Colab\"/></a>"
      ]
    },
    {
      "cell_type": "code",
      "execution_count": 1,
      "metadata": {
        "id": "1IOcBfzUNflj"
      },
      "outputs": [],
      "source": [
        "# [표11-1]의 예를 바탕으로 한 구조화된 데이터\n",
        "locs = [('고려대학교', 'In', '서울'),\n",
        "        ('Naver', 'In', '성남'),\n",
        "        ('KT 위즈', 'In', '수원'),\n",
        "        ('한화 이글스', 'In', '대전'),\n",
        "        ('NC 소프트', 'In', '성남'),\n",
        "        ('삼성', 'In', '서울')]"
      ]
    },
    {
      "cell_type": "code",
      "source": [
        "# 서울에 있는 기관 출력\n",
        "query = []\n",
        "\n",
        "for (e1, rel, e2) in locs:\n",
        "  if e2=='서울':\n",
        "    query.append(e1)\n",
        "\n",
        "print(query)"
      ],
      "metadata": {
        "colab": {
          "base_uri": "https://localhost:8080/"
        },
        "id": "dDuxulUbNizh",
        "outputId": "9c27a659-f447-4704-b7d3-d009b5194585"
      },
      "execution_count": 2,
      "outputs": [
        {
          "output_type": "stream",
          "name": "stdout",
          "text": [
            "['고려대학교', '삼성']\n"
          ]
        }
      ]
    }
  ]
}