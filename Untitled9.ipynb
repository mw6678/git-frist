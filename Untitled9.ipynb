{
  "nbformat": 4,
  "nbformat_minor": 0,
  "metadata": {
    "colab": {
      "provenance": [],
      "authorship_tag": "ABX9TyOoJp3bHaWkuSSL/laIh28+",
      "include_colab_link": true
    },
    "kernelspec": {
      "name": "python3",
      "display_name": "Python 3"
    },
    "language_info": {
      "name": "python"
    }
  },
  "cells": [
    {
      "cell_type": "markdown",
      "metadata": {
        "id": "view-in-github",
        "colab_type": "text"
      },
      "source": [
        "<a href=\"https://colab.research.google.com/github/mw6678/git-frist/blob/master/Untitled9.ipynb\" target=\"_parent\"><img src=\"https://colab.research.google.com/assets/colab-badge.svg\" alt=\"Open In Colab\"/></a>"
      ]
    },
    {
      "cell_type": "code",
      "execution_count": 1,
      "metadata": {
        "colab": {
          "base_uri": "https://localhost:8080/"
        },
        "id": "vdmVporXN3BC",
        "outputId": "4d54d48e-0146-4bf6-db5b-e49c0cffe3d6"
      },
      "outputs": [
        {
          "output_type": "stream",
          "name": "stderr",
          "text": [
            "[nltk_data] Downloading package conll2002 to /root/nltk_data...\n",
            "[nltk_data]   Unzipping corpora/conll2002.zip.\n"
          ]
        }
      ],
      "source": [
        "import nltk\n",
        "from nltk.corpus import conll2002\n",
        "nltk.download('conll2002')\n",
        "import re"
      ]
    },
    {
      "cell_type": "code",
      "source": [
        "# 여러개 정규식 추가\n",
        "vnv = \"\"\"\n",
        " (\n",
        " is/V|\n",
        " was/V|\n",
        " werd/V|\n",
        " wordt/V\n",
        " )\n",
        " .*\n",
        " van/Prep\n",
        " \"\"\"\n",
        "\n",
        "# 정규식을 기준으로 전처리\n",
        "VAN = re.compile (vnv, re.VERBOSE)\n",
        "\n",
        "# conll2002 코퍼스에 대한 관계 추출\n",
        "for doc in conll2002.chunked_sents('ned.train'):\n",
        "  # print(\"doc : \", doc)\n",
        "  for rel in nltk.sem.extract_rels('PER', 'ORG', doc, corpus='conll2002', pattern=VAN):\n",
        "    # 네덜란드어의 관계\n",
        "    print(\"\", nltk.sem.clause(rel, relsym=\"VAN\"))\n",
        "    \"\"\"기본 10 단어 창 내에서 두 NE와 왼쪽 및 오른쪽 컨텍스트 사이에 개입하는 실제 단어가 표시됨.\n",
        "    네덜란드어 사전을 사용하면 결과 VAN ( 'annie_lennox' , 'eurythmics' ) 이 왜 틀린지 알 수 있음\"\"\"\n",
        "    # print (nltk.rtuple(rel, lcon=True , rcon=True ))\n"
      ],
      "metadata": {
        "colab": {
          "base_uri": "https://localhost:8080/"
        },
        "id": "G4emN-bVN4SC",
        "outputId": "1bbbcf6a-38d3-499e-a3fb-99da44f0960d"
      },
      "execution_count": 2,
      "outputs": [
        {
          "output_type": "stream",
          "name": "stdout",
          "text": [
            " VAN(\"cornet_d'elzius\", 'buitenlandse_handel')\n",
            " VAN('johan_rottiers', 'kardinaal_van_roey_instituut')\n",
            " VAN('annie_lennox', 'eurythmics')\n"
          ]
        }
      ]
    }
  ]
}